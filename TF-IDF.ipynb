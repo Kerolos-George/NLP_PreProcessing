{
  "cells": [
    {
      "cell_type": "code",
      "execution_count": 190,
      "metadata": {
        "id": "4EJQLV2lpr3j"
      },
      "outputs": [],
      "source": [
        "import random\n",
        "import nltk\n",
        "from nltk.corpus import gutenberg\n",
        "from nltk.tokenize import word_tokenize\n",
        "from nltk.stem import WordNetLemmatizer\n",
        "from nltk.corpus import stopwords\n",
        "from sklearn.feature_extraction.text import TfidfVectorizer\n",
        "import string\n",
        "import re\n",
        "from nltk.corpus import reuters\n",
        "import pandas as pd\n",
        "from collections import Counter\n",
        "import math\n",
        "import numpy as np\n",
        "from transformers import pipeline\n"
      ]
    },
    {
      "cell_type": "code",
      "execution_count": 191,
      "metadata": {
        "colab": {
          "base_uri": "https://localhost:8080/"
        },
        "id": "fzXk9tlINmG-",
        "outputId": "8b965862-3758-442b-e94f-c39466d32ef8"
      },
      "outputs": [
        {
          "output_type": "stream",
          "name": "stderr",
          "text": [
            "[nltk_data] Downloading package punkt to /root/nltk_data...\n",
            "[nltk_data]   Package punkt is already up-to-date!\n",
            "[nltk_data] Downloading package wordnet to /root/nltk_data...\n",
            "[nltk_data]   Package wordnet is already up-to-date!\n",
            "[nltk_data] Downloading package stopwords to /root/nltk_data...\n",
            "[nltk_data]   Package stopwords is already up-to-date!\n",
            "[nltk_data] Downloading package reuters to /root/nltk_data...\n",
            "[nltk_data]   Package reuters is already up-to-date!\n"
          ]
        },
        {
          "output_type": "execute_result",
          "data": {
            "text/plain": [
              "True"
            ]
          },
          "metadata": {},
          "execution_count": 191
        }
      ],
      "source": [
        "nltk.download('punkt')\n",
        "nltk.download('wordnet')\n",
        "nltk.download('stopwords')\n",
        "nltk.download('reuters')"
      ]
    },
    {
      "cell_type": "code",
      "source": [
        "generator = pipeline('text-generation', model='gpt2')\n"
      ],
      "metadata": {
        "id": "UPfNBoqScFx9"
      },
      "execution_count": 192,
      "outputs": []
    },
    {
      "cell_type": "code",
      "execution_count": 193,
      "metadata": {
        "id": "J5mOLw9ZptO6"
      },
      "outputs": [],
      "source": [
        "def generate_documents(topics):\n",
        "    generated_docs = []\n",
        "    for topic in topics:\n",
        "        generated_docs.append(generator(topic, max_length=100)[0]['generated_text'])\n",
        "    return generated_docs"
      ]
    },
    {
      "cell_type": "code",
      "source": [
        "topics = ['write definintion about science' , 'write definintion about medical field']"
      ],
      "metadata": {
        "id": "ARKtK1v2cGeb"
      },
      "execution_count": 194,
      "outputs": []
    },
    {
      "cell_type": "code",
      "execution_count": 195,
      "metadata": {
        "id": "x7LvTVOl30he",
        "colab": {
          "base_uri": "https://localhost:8080/"
        },
        "outputId": "cc6d9475-61df-4c15-b9a9-580ba353d1c3"
      },
      "outputs": [
        {
          "output_type": "stream",
          "name": "stderr",
          "text": [
            "Truncation was not explicitly activated but `max_length` is provided a specific value, please use `truncation=True` to explicitly truncate examples to max length. Defaulting to 'longest_first' truncation strategy. If you encode pairs of sequences (GLUE-style) with the tokenizer you can select this strategy more precisely by providing a specific strategy to `truncation`.\n",
            "Setting `pad_token_id` to `eos_token_id`:50256 for open-end generation.\n",
            "Setting `pad_token_id` to `eos_token_id`:50256 for open-end generation.\n"
          ]
        }
      ],
      "source": [
        "docs = generate_documents(topics)"
      ]
    },
    {
      "cell_type": "code",
      "source": [
        "docs"
      ],
      "metadata": {
        "colab": {
          "base_uri": "https://localhost:8080/"
        },
        "id": "azl80-P4dT6I",
        "outputId": "8e2ccd0b-5e39-47d3-85a2-7bed5e600348"
      },
      "execution_count": 196,
      "outputs": [
        {
          "output_type": "execute_result",
          "data": {
            "text/plain": [
              "[\"write definintion about science\\n\\n(7) I'm a person who has never been a physicist; if I had, I would have taught him about science as an amateur-athlete, and he would have spent his whole schooling studying and practicing how to write mathematical formulas. He would have been more effective as an educator than an engineer, and he would have gone on and applied mathematics to problems at a fast pace rather than waiting for his professor to do it all over again, and you\",\n",
              " \"write definintion about medical field data, such as whether or not it has actually been contaminated, how many times the field reported adverse effects such as fatigue, nausea and vomiting; a range of other data that may influence how much is included in the health information, such as whether or not it is in the physical health record of the patient and what a patient's gender was for an elective, or, if applicable, whether or not a primary care physician had access to the record.\\n\\n\"]"
            ]
          },
          "metadata": {},
          "execution_count": 196
        }
      ]
    },
    {
      "cell_type": "code",
      "execution_count": 197,
      "metadata": {
        "id": "YtdgRFWq39Pu"
      },
      "outputs": [],
      "source": [
        "def processing(doc):\n",
        "    # clean\n",
        "    doc = re.sub(r'[^a-zA-Z]', ' ', doc) # non-alphabetic characters\n",
        "\n",
        "    # normalize\n",
        "    doc = doc.lower()\n",
        "\n",
        "    # tokenization\n",
        "    doc = word_tokenize(doc)\n",
        "\n",
        "    # lemmatization\n",
        "    lemmatizer = WordNetLemmatizer()\n",
        "    doc = [lemmatizer.lemmatize(token) for token in doc]\n",
        "\n",
        "    # remove stop words\n",
        "    stop_words = set(stopwords.words('english'))\n",
        "    doc = [token for token in doc if token not in stop_words]\n",
        "\n",
        "\n",
        "\n",
        "    return doc"
      ]
    },
    {
      "cell_type": "code",
      "execution_count": 198,
      "metadata": {
        "id": "xjUpVNiP6h4m"
      },
      "outputs": [],
      "source": [
        "for i in range(len(docs)):\n",
        "    docs[i] = processing(docs[i])"
      ]
    },
    {
      "cell_type": "code",
      "execution_count": 199,
      "metadata": {
        "id": "Qi66mlPhhP07"
      },
      "outputs": [],
      "source": [
        "def docing(doc):\n",
        "    return ' '.join(doc)"
      ]
    },
    {
      "cell_type": "code",
      "execution_count": 200,
      "metadata": {
        "id": "kBOxHtsLhq2c"
      },
      "outputs": [],
      "source": [
        "for i in range(len(docs)):\n",
        "    docs[i] = docing(docs[i])"
      ]
    },
    {
      "cell_type": "code",
      "execution_count": 201,
      "metadata": {
        "colab": {
          "base_uri": "https://localhost:8080/"
        },
        "id": "-MlnGY0oke-d",
        "outputId": "9b99a383-60cc-4e9f-f7d1-917cb79aef6d"
      },
      "outputs": [
        {
          "output_type": "execute_result",
          "data": {
            "text/plain": [
              "['write definintion science person ha never physicist would taught science amateur athlete would spent whole schooling studying practicing write mathematical formula would effective educator engineer would gone applied mathematics problem fast pace rather waiting professor',\n",
              " 'write definintion medical field data whether ha actually contaminated many time field reported adverse effect fatigue nausea vomiting range data may influence much included health information whether physical health record patient patient gender wa elective applicable whether primary care physician access record']"
            ]
          },
          "metadata": {},
          "execution_count": 201
        }
      ],
      "source": [
        "docs"
      ]
    },
    {
      "cell_type": "code",
      "execution_count": 202,
      "metadata": {
        "id": "gCuEdGSm80Vv"
      },
      "outputs": [],
      "source": [
        "def calculate_tfidf(docs):\n",
        "    # calculations\n",
        "    vectorizer = TfidfVectorizer()\n",
        "    tfidf_matrix = vectorizer.fit_transform(docs)\n",
        "    return tfidf_matrix,vectorizer"
      ]
    },
    {
      "cell_type": "code",
      "execution_count": 203,
      "metadata": {
        "id": "Cq1cAChEqXyt"
      },
      "outputs": [],
      "source": [
        "# Calculate TF-IDF\n",
        "tfidf_matrix,vectorizer = calculate_tfidf(docs)"
      ]
    },
    {
      "cell_type": "code",
      "execution_count": 204,
      "metadata": {
        "id": "FM441UjartGW"
      },
      "outputs": [],
      "source": [
        "def to_dataframe(docs,tfidf_matrix,vectorizer):\n",
        "    return pd.DataFrame(\n",
        "        tfidf_matrix.T.toarray(),\n",
        "        index=vectorizer.get_feature_names_out(),\n",
        "        columns= [f\"Doc {i+1}\" for i in range(len(docs))],\n",
        "    )"
      ]
    },
    {
      "cell_type": "code",
      "execution_count": 205,
      "metadata": {
        "colab": {
          "base_uri": "https://localhost:8080/"
        },
        "id": "vRrd2oIBPniW",
        "outputId": "e2086de6-626c-40ee-ec48-a430619187c9"
      },
      "outputs": [
        {
          "output_type": "execute_result",
          "data": {
            "text/plain": [
              "array([[0.        , 0.13301597],\n",
              "       [0.        , 0.13301597],\n",
              "       [0.        , 0.13301597],\n",
              "       [0.14428127, 0.        ],\n",
              "       [0.        , 0.13301597],\n",
              "       [0.14428127, 0.        ],\n",
              "       [0.14428127, 0.        ],\n",
              "       [0.        , 0.13301597],\n",
              "       [0.        , 0.13301597],\n",
              "       [0.        , 0.26603195],\n",
              "       [0.10265731, 0.09464196],\n",
              "       [0.14428127, 0.        ],\n",
              "       [0.        , 0.13301597],\n",
              "       [0.14428127, 0.        ],\n",
              "       [0.        , 0.13301597],\n",
              "       [0.14428127, 0.        ],\n",
              "       [0.14428127, 0.        ],\n",
              "       [0.        , 0.13301597],\n",
              "       [0.        , 0.26603195],\n",
              "       [0.14428127, 0.        ],\n",
              "       [0.        , 0.13301597],\n",
              "       [0.14428127, 0.        ],\n",
              "       [0.10265731, 0.09464196],\n",
              "       [0.        , 0.26603195],\n",
              "       [0.        , 0.13301597],\n",
              "       [0.        , 0.13301597],\n",
              "       [0.        , 0.13301597],\n",
              "       [0.        , 0.13301597],\n",
              "       [0.14428127, 0.        ],\n",
              "       [0.14428127, 0.        ],\n",
              "       [0.        , 0.13301597],\n",
              "       [0.        , 0.13301597],\n",
              "       [0.        , 0.13301597],\n",
              "       [0.        , 0.13301597],\n",
              "       [0.14428127, 0.        ],\n",
              "       [0.14428127, 0.        ],\n",
              "       [0.        , 0.26603195],\n",
              "       [0.14428127, 0.        ],\n",
              "       [0.        , 0.13301597],\n",
              "       [0.        , 0.13301597],\n",
              "       [0.14428127, 0.        ],\n",
              "       [0.14428127, 0.        ],\n",
              "       [0.        , 0.13301597],\n",
              "       [0.14428127, 0.        ],\n",
              "       [0.14428127, 0.        ],\n",
              "       [0.        , 0.13301597],\n",
              "       [0.14428127, 0.        ],\n",
              "       [0.        , 0.26603195],\n",
              "       [0.        , 0.13301597],\n",
              "       [0.14428127, 0.        ],\n",
              "       [0.28856255, 0.        ],\n",
              "       [0.14428127, 0.        ],\n",
              "       [0.14428127, 0.        ],\n",
              "       [0.14428127, 0.        ],\n",
              "       [0.        , 0.13301597],\n",
              "       [0.        , 0.13301597],\n",
              "       [0.        , 0.13301597],\n",
              "       [0.14428127, 0.        ],\n",
              "       [0.        , 0.39904792],\n",
              "       [0.14428127, 0.        ],\n",
              "       [0.57712509, 0.        ],\n",
              "       [0.20531463, 0.09464196]])"
            ]
          },
          "metadata": {},
          "execution_count": 205
        }
      ],
      "source": [
        "tfidf_matrix.T.toarray()"
      ]
    },
    {
      "cell_type": "code",
      "execution_count": 206,
      "metadata": {
        "id": "WF57dTqUkHW8"
      },
      "outputs": [],
      "source": [
        "# representation\n",
        "df = to_dataframe(docs,tfidf_matrix,vectorizer)"
      ]
    },
    {
      "cell_type": "code",
      "execution_count": 207,
      "metadata": {
        "colab": {
          "base_uri": "https://localhost:8080/",
          "height": 423
        },
        "id": "RKK5-xhth3Sk",
        "outputId": "dd74bc71-cbe3-498d-9ec1-837e447d0b4a"
      },
      "outputs": [
        {
          "output_type": "execute_result",
          "data": {
            "text/plain": [
              "               Doc 1     Doc 2\n",
              "access      0.000000  0.133016\n",
              "actually    0.000000  0.133016\n",
              "adverse     0.000000  0.133016\n",
              "amateur     0.144281  0.000000\n",
              "applicable  0.000000  0.133016\n",
              "...              ...       ...\n",
              "waiting     0.144281  0.000000\n",
              "whether     0.000000  0.399048\n",
              "whole       0.144281  0.000000\n",
              "would       0.577125  0.000000\n",
              "write       0.205315  0.094642\n",
              "\n",
              "[62 rows x 2 columns]"
            ],
            "text/html": [
              "\n",
              "  <div id=\"df-01da9b57-f3b8-4a74-886d-f428e3d72a95\" class=\"colab-df-container\">\n",
              "    <div>\n",
              "<style scoped>\n",
              "    .dataframe tbody tr th:only-of-type {\n",
              "        vertical-align: middle;\n",
              "    }\n",
              "\n",
              "    .dataframe tbody tr th {\n",
              "        vertical-align: top;\n",
              "    }\n",
              "\n",
              "    .dataframe thead th {\n",
              "        text-align: right;\n",
              "    }\n",
              "</style>\n",
              "<table border=\"1\" class=\"dataframe\">\n",
              "  <thead>\n",
              "    <tr style=\"text-align: right;\">\n",
              "      <th></th>\n",
              "      <th>Doc 1</th>\n",
              "      <th>Doc 2</th>\n",
              "    </tr>\n",
              "  </thead>\n",
              "  <tbody>\n",
              "    <tr>\n",
              "      <th>access</th>\n",
              "      <td>0.000000</td>\n",
              "      <td>0.133016</td>\n",
              "    </tr>\n",
              "    <tr>\n",
              "      <th>actually</th>\n",
              "      <td>0.000000</td>\n",
              "      <td>0.133016</td>\n",
              "    </tr>\n",
              "    <tr>\n",
              "      <th>adverse</th>\n",
              "      <td>0.000000</td>\n",
              "      <td>0.133016</td>\n",
              "    </tr>\n",
              "    <tr>\n",
              "      <th>amateur</th>\n",
              "      <td>0.144281</td>\n",
              "      <td>0.000000</td>\n",
              "    </tr>\n",
              "    <tr>\n",
              "      <th>applicable</th>\n",
              "      <td>0.000000</td>\n",
              "      <td>0.133016</td>\n",
              "    </tr>\n",
              "    <tr>\n",
              "      <th>...</th>\n",
              "      <td>...</td>\n",
              "      <td>...</td>\n",
              "    </tr>\n",
              "    <tr>\n",
              "      <th>waiting</th>\n",
              "      <td>0.144281</td>\n",
              "      <td>0.000000</td>\n",
              "    </tr>\n",
              "    <tr>\n",
              "      <th>whether</th>\n",
              "      <td>0.000000</td>\n",
              "      <td>0.399048</td>\n",
              "    </tr>\n",
              "    <tr>\n",
              "      <th>whole</th>\n",
              "      <td>0.144281</td>\n",
              "      <td>0.000000</td>\n",
              "    </tr>\n",
              "    <tr>\n",
              "      <th>would</th>\n",
              "      <td>0.577125</td>\n",
              "      <td>0.000000</td>\n",
              "    </tr>\n",
              "    <tr>\n",
              "      <th>write</th>\n",
              "      <td>0.205315</td>\n",
              "      <td>0.094642</td>\n",
              "    </tr>\n",
              "  </tbody>\n",
              "</table>\n",
              "<p>62 rows × 2 columns</p>\n",
              "</div>\n",
              "    <div class=\"colab-df-buttons\">\n",
              "\n",
              "  <div class=\"colab-df-container\">\n",
              "    <button class=\"colab-df-convert\" onclick=\"convertToInteractive('df-01da9b57-f3b8-4a74-886d-f428e3d72a95')\"\n",
              "            title=\"Convert this dataframe to an interactive table.\"\n",
              "            style=\"display:none;\">\n",
              "\n",
              "  <svg xmlns=\"http://www.w3.org/2000/svg\" height=\"24px\" viewBox=\"0 -960 960 960\">\n",
              "    <path d=\"M120-120v-720h720v720H120Zm60-500h600v-160H180v160Zm220 220h160v-160H400v160Zm0 220h160v-160H400v160ZM180-400h160v-160H180v160Zm440 0h160v-160H620v160ZM180-180h160v-160H180v160Zm440 0h160v-160H620v160Z\"/>\n",
              "  </svg>\n",
              "    </button>\n",
              "\n",
              "  <style>\n",
              "    .colab-df-container {\n",
              "      display:flex;\n",
              "      gap: 12px;\n",
              "    }\n",
              "\n",
              "    .colab-df-convert {\n",
              "      background-color: #E8F0FE;\n",
              "      border: none;\n",
              "      border-radius: 50%;\n",
              "      cursor: pointer;\n",
              "      display: none;\n",
              "      fill: #1967D2;\n",
              "      height: 32px;\n",
              "      padding: 0 0 0 0;\n",
              "      width: 32px;\n",
              "    }\n",
              "\n",
              "    .colab-df-convert:hover {\n",
              "      background-color: #E2EBFA;\n",
              "      box-shadow: 0px 1px 2px rgba(60, 64, 67, 0.3), 0px 1px 3px 1px rgba(60, 64, 67, 0.15);\n",
              "      fill: #174EA6;\n",
              "    }\n",
              "\n",
              "    .colab-df-buttons div {\n",
              "      margin-bottom: 4px;\n",
              "    }\n",
              "\n",
              "    [theme=dark] .colab-df-convert {\n",
              "      background-color: #3B4455;\n",
              "      fill: #D2E3FC;\n",
              "    }\n",
              "\n",
              "    [theme=dark] .colab-df-convert:hover {\n",
              "      background-color: #434B5C;\n",
              "      box-shadow: 0px 1px 3px 1px rgba(0, 0, 0, 0.15);\n",
              "      filter: drop-shadow(0px 1px 2px rgba(0, 0, 0, 0.3));\n",
              "      fill: #FFFFFF;\n",
              "    }\n",
              "  </style>\n",
              "\n",
              "    <script>\n",
              "      const buttonEl =\n",
              "        document.querySelector('#df-01da9b57-f3b8-4a74-886d-f428e3d72a95 button.colab-df-convert');\n",
              "      buttonEl.style.display =\n",
              "        google.colab.kernel.accessAllowed ? 'block' : 'none';\n",
              "\n",
              "      async function convertToInteractive(key) {\n",
              "        const element = document.querySelector('#df-01da9b57-f3b8-4a74-886d-f428e3d72a95');\n",
              "        const dataTable =\n",
              "          await google.colab.kernel.invokeFunction('convertToInteractive',\n",
              "                                                    [key], {});\n",
              "        if (!dataTable) return;\n",
              "\n",
              "        const docLinkHtml = 'Like what you see? Visit the ' +\n",
              "          '<a target=\"_blank\" href=https://colab.research.google.com/notebooks/data_table.ipynb>data table notebook</a>'\n",
              "          + ' to learn more about interactive tables.';\n",
              "        element.innerHTML = '';\n",
              "        dataTable['output_type'] = 'display_data';\n",
              "        await google.colab.output.renderOutput(dataTable, element);\n",
              "        const docLink = document.createElement('div');\n",
              "        docLink.innerHTML = docLinkHtml;\n",
              "        element.appendChild(docLink);\n",
              "      }\n",
              "    </script>\n",
              "  </div>\n",
              "\n",
              "\n",
              "<div id=\"df-a1019ee9-c848-42cd-b265-6ec1aa01469f\">\n",
              "  <button class=\"colab-df-quickchart\" onclick=\"quickchart('df-a1019ee9-c848-42cd-b265-6ec1aa01469f')\"\n",
              "            title=\"Suggest charts\"\n",
              "            style=\"display:none;\">\n",
              "\n",
              "<svg xmlns=\"http://www.w3.org/2000/svg\" height=\"24px\"viewBox=\"0 0 24 24\"\n",
              "     width=\"24px\">\n",
              "    <g>\n",
              "        <path d=\"M19 3H5c-1.1 0-2 .9-2 2v14c0 1.1.9 2 2 2h14c1.1 0 2-.9 2-2V5c0-1.1-.9-2-2-2zM9 17H7v-7h2v7zm4 0h-2V7h2v10zm4 0h-2v-4h2v4z\"/>\n",
              "    </g>\n",
              "</svg>\n",
              "  </button>\n",
              "\n",
              "<style>\n",
              "  .colab-df-quickchart {\n",
              "      --bg-color: #E8F0FE;\n",
              "      --fill-color: #1967D2;\n",
              "      --hover-bg-color: #E2EBFA;\n",
              "      --hover-fill-color: #174EA6;\n",
              "      --disabled-fill-color: #AAA;\n",
              "      --disabled-bg-color: #DDD;\n",
              "  }\n",
              "\n",
              "  [theme=dark] .colab-df-quickchart {\n",
              "      --bg-color: #3B4455;\n",
              "      --fill-color: #D2E3FC;\n",
              "      --hover-bg-color: #434B5C;\n",
              "      --hover-fill-color: #FFFFFF;\n",
              "      --disabled-bg-color: #3B4455;\n",
              "      --disabled-fill-color: #666;\n",
              "  }\n",
              "\n",
              "  .colab-df-quickchart {\n",
              "    background-color: var(--bg-color);\n",
              "    border: none;\n",
              "    border-radius: 50%;\n",
              "    cursor: pointer;\n",
              "    display: none;\n",
              "    fill: var(--fill-color);\n",
              "    height: 32px;\n",
              "    padding: 0;\n",
              "    width: 32px;\n",
              "  }\n",
              "\n",
              "  .colab-df-quickchart:hover {\n",
              "    background-color: var(--hover-bg-color);\n",
              "    box-shadow: 0 1px 2px rgba(60, 64, 67, 0.3), 0 1px 3px 1px rgba(60, 64, 67, 0.15);\n",
              "    fill: var(--button-hover-fill-color);\n",
              "  }\n",
              "\n",
              "  .colab-df-quickchart-complete:disabled,\n",
              "  .colab-df-quickchart-complete:disabled:hover {\n",
              "    background-color: var(--disabled-bg-color);\n",
              "    fill: var(--disabled-fill-color);\n",
              "    box-shadow: none;\n",
              "  }\n",
              "\n",
              "  .colab-df-spinner {\n",
              "    border: 2px solid var(--fill-color);\n",
              "    border-color: transparent;\n",
              "    border-bottom-color: var(--fill-color);\n",
              "    animation:\n",
              "      spin 1s steps(1) infinite;\n",
              "  }\n",
              "\n",
              "  @keyframes spin {\n",
              "    0% {\n",
              "      border-color: transparent;\n",
              "      border-bottom-color: var(--fill-color);\n",
              "      border-left-color: var(--fill-color);\n",
              "    }\n",
              "    20% {\n",
              "      border-color: transparent;\n",
              "      border-left-color: var(--fill-color);\n",
              "      border-top-color: var(--fill-color);\n",
              "    }\n",
              "    30% {\n",
              "      border-color: transparent;\n",
              "      border-left-color: var(--fill-color);\n",
              "      border-top-color: var(--fill-color);\n",
              "      border-right-color: var(--fill-color);\n",
              "    }\n",
              "    40% {\n",
              "      border-color: transparent;\n",
              "      border-right-color: var(--fill-color);\n",
              "      border-top-color: var(--fill-color);\n",
              "    }\n",
              "    60% {\n",
              "      border-color: transparent;\n",
              "      border-right-color: var(--fill-color);\n",
              "    }\n",
              "    80% {\n",
              "      border-color: transparent;\n",
              "      border-right-color: var(--fill-color);\n",
              "      border-bottom-color: var(--fill-color);\n",
              "    }\n",
              "    90% {\n",
              "      border-color: transparent;\n",
              "      border-bottom-color: var(--fill-color);\n",
              "    }\n",
              "  }\n",
              "</style>\n",
              "\n",
              "  <script>\n",
              "    async function quickchart(key) {\n",
              "      const quickchartButtonEl =\n",
              "        document.querySelector('#' + key + ' button');\n",
              "      quickchartButtonEl.disabled = true;  // To prevent multiple clicks.\n",
              "      quickchartButtonEl.classList.add('colab-df-spinner');\n",
              "      try {\n",
              "        const charts = await google.colab.kernel.invokeFunction(\n",
              "            'suggestCharts', [key], {});\n",
              "      } catch (error) {\n",
              "        console.error('Error during call to suggestCharts:', error);\n",
              "      }\n",
              "      quickchartButtonEl.classList.remove('colab-df-spinner');\n",
              "      quickchartButtonEl.classList.add('colab-df-quickchart-complete');\n",
              "    }\n",
              "    (() => {\n",
              "      let quickchartButtonEl =\n",
              "        document.querySelector('#df-a1019ee9-c848-42cd-b265-6ec1aa01469f button');\n",
              "      quickchartButtonEl.style.display =\n",
              "        google.colab.kernel.accessAllowed ? 'block' : 'none';\n",
              "    })();\n",
              "  </script>\n",
              "</div>\n",
              "\n",
              "  <div id=\"id_c90e71f3-5453-43bb-9645-af747e3c3d1e\">\n",
              "    <style>\n",
              "      .colab-df-generate {\n",
              "        background-color: #E8F0FE;\n",
              "        border: none;\n",
              "        border-radius: 50%;\n",
              "        cursor: pointer;\n",
              "        display: none;\n",
              "        fill: #1967D2;\n",
              "        height: 32px;\n",
              "        padding: 0 0 0 0;\n",
              "        width: 32px;\n",
              "      }\n",
              "\n",
              "      .colab-df-generate:hover {\n",
              "        background-color: #E2EBFA;\n",
              "        box-shadow: 0px 1px 2px rgba(60, 64, 67, 0.3), 0px 1px 3px 1px rgba(60, 64, 67, 0.15);\n",
              "        fill: #174EA6;\n",
              "      }\n",
              "\n",
              "      [theme=dark] .colab-df-generate {\n",
              "        background-color: #3B4455;\n",
              "        fill: #D2E3FC;\n",
              "      }\n",
              "\n",
              "      [theme=dark] .colab-df-generate:hover {\n",
              "        background-color: #434B5C;\n",
              "        box-shadow: 0px 1px 3px 1px rgba(0, 0, 0, 0.15);\n",
              "        filter: drop-shadow(0px 1px 2px rgba(0, 0, 0, 0.3));\n",
              "        fill: #FFFFFF;\n",
              "      }\n",
              "    </style>\n",
              "    <button class=\"colab-df-generate\" onclick=\"generateWithVariable('df')\"\n",
              "            title=\"Generate code using this dataframe.\"\n",
              "            style=\"display:none;\">\n",
              "\n",
              "  <svg xmlns=\"http://www.w3.org/2000/svg\" height=\"24px\"viewBox=\"0 0 24 24\"\n",
              "       width=\"24px\">\n",
              "    <path d=\"M7,19H8.4L18.45,9,17,7.55,7,17.6ZM5,21V16.75L18.45,3.32a2,2,0,0,1,2.83,0l1.4,1.43a1.91,1.91,0,0,1,.58,1.4,1.91,1.91,0,0,1-.58,1.4L9.25,21ZM18.45,9,17,7.55Zm-12,3A5.31,5.31,0,0,0,4.9,8.1,5.31,5.31,0,0,0,1,6.5,5.31,5.31,0,0,0,4.9,4.9,5.31,5.31,0,0,0,6.5,1,5.31,5.31,0,0,0,8.1,4.9,5.31,5.31,0,0,0,12,6.5,5.46,5.46,0,0,0,6.5,12Z\"/>\n",
              "  </svg>\n",
              "    </button>\n",
              "    <script>\n",
              "      (() => {\n",
              "      const buttonEl =\n",
              "        document.querySelector('#id_c90e71f3-5453-43bb-9645-af747e3c3d1e button.colab-df-generate');\n",
              "      buttonEl.style.display =\n",
              "        google.colab.kernel.accessAllowed ? 'block' : 'none';\n",
              "\n",
              "      buttonEl.onclick = () => {\n",
              "        google.colab.notebook.generateWithVariable('df');\n",
              "      }\n",
              "      })();\n",
              "    </script>\n",
              "  </div>\n",
              "\n",
              "    </div>\n",
              "  </div>\n"
            ],
            "application/vnd.google.colaboratory.intrinsic+json": {
              "type": "dataframe",
              "variable_name": "df",
              "summary": "{\n  \"name\": \"df\",\n  \"rows\": 62,\n  \"fields\": [\n    {\n      \"column\": \"Doc 1\",\n      \"properties\": {\n        \"dtype\": \"number\",\n        \"std\": 0.10043915385557751,\n        \"min\": 0.0,\n        \"max\": 0.5771250911315431,\n        \"num_unique_values\": 6,\n        \"samples\": [\n          0.0,\n          0.14428127278288577,\n          0.20531462780615953\n        ],\n        \"semantic_type\": \"\",\n        \"description\": \"\"\n      }\n    },\n    {\n      \"column\": \"Doc 2\",\n      \"properties\": {\n        \"dtype\": \"number\",\n        \"std\": 0.09207369707704263,\n        \"min\": 0.0,\n        \"max\": 0.3990479188034489,\n        \"num_unique_values\": 5,\n        \"samples\": [\n          0.0,\n          0.3990479188034489,\n          0.266031945868966\n        ],\n        \"semantic_type\": \"\",\n        \"description\": \"\"\n      }\n    }\n  ]\n}"
            }
          },
          "metadata": {},
          "execution_count": 207
        }
      ],
      "source": [
        "df"
      ]
    },
    {
      "cell_type": "markdown",
      "metadata": {
        "id": "DCqWBzxPrf7W"
      },
      "source": [
        "Bonus"
      ]
    },
    {
      "cell_type": "code",
      "source": [
        "for i in range(len(docs)):\n",
        "    docs[i] = docs[i].split()\n"
      ],
      "metadata": {
        "id": "y8Inrcy7b10b"
      },
      "execution_count": 208,
      "outputs": []
    },
    {
      "cell_type": "code",
      "execution_count": 209,
      "metadata": {
        "id": "WTn6RsskO5i8"
      },
      "outputs": [],
      "source": [
        "def compute_tf(documents):\n",
        "    tfs = []\n",
        "    for doc in documents:\n",
        "        word_count = Counter(doc)\n",
        "        total_words = len(doc)\n",
        "        tf = {word: count / total_words for word, count in word_count.items()}\n",
        "        tfs.append(tf)\n",
        "    return tfs\n",
        "\n",
        "\n",
        "def compute_idf(documents):\n",
        "    total_docs = len(documents)\n",
        "    idf = {}\n",
        "    for doc in documents:\n",
        "        for word in set(doc):\n",
        "            idf[word] = idf.get(word, 0)\n",
        "\n",
        "    idf = {word: math.log( ((total_docs + 1)  / (count + 1))  + 1 ) for word, count in idf.items()}\n",
        "    return idf\n",
        "\n",
        "def compute_tfidf(documents):\n",
        "    tf = compute_tf(documents)\n",
        "    idf = compute_idf(documents)\n",
        "\n",
        "    tfidf = []\n",
        "    for doc in tf:\n",
        "        doc_tfidf = {word: tf_val * idf[word] for word, tf_val in doc.items()}\n",
        "        tfidf.append(doc_tfidf)\n",
        "\n",
        "    return tfidf\n",
        "\n",
        "\n",
        "def normalize_tfidf(tfidf):\n",
        "    normalized_tfidf = []\n",
        "    for doc in tfidf:\n",
        "        norm = np.linalg.norm(list(doc.values()))\n",
        "        normalized_doc = {word: tfidf_val / norm for word, tfidf_val in doc.items()}\n",
        "        normalized_tfidf.append(normalized_doc)\n",
        "\n",
        "    return normalized_tfidf"
      ]
    },
    {
      "cell_type": "code",
      "source": [],
      "metadata": {
        "id": "lGwSAdaXb06R"
      },
      "execution_count": 209,
      "outputs": []
    },
    {
      "cell_type": "code",
      "source": [
        "\n",
        "tfidf = compute_tfidf(docs)\n",
        "normalized_tfidf = normalize_tfidf(tfidf)\n",
        "\n",
        "for idx, doc_tfidf in enumerate(normalized_tfidf):\n",
        "    print(f\"TF-IDF for document {idx + 1}: {doc_tfidf}\")"
      ],
      "metadata": {
        "colab": {
          "base_uri": "https://localhost:8080/"
        },
        "id": "Oa5e3ITTYStN",
        "outputId": "236fc888-d3c5-4395-dabe-26addbd11663"
      },
      "execution_count": 210,
      "outputs": [
        {
          "output_type": "stream",
          "name": "stdout",
          "text": [
            "TF-IDF for document 1: {'write': 0.28005601680560205, 'definintion': 0.14002800840280102, 'science': 0.28005601680560205, 'person': 0.14002800840280102, 'ha': 0.14002800840280102, 'never': 0.14002800840280102, 'physicist': 0.14002800840280102, 'would': 0.5601120336112041, 'taught': 0.14002800840280102, 'amateur': 0.14002800840280102, 'athlete': 0.14002800840280102, 'spent': 0.14002800840280102, 'whole': 0.14002800840280102, 'schooling': 0.14002800840280102, 'studying': 0.14002800840280102, 'practicing': 0.14002800840280102, 'mathematical': 0.14002800840280102, 'formula': 0.14002800840280102, 'effective': 0.14002800840280102, 'educator': 0.14002800840280102, 'engineer': 0.14002800840280102, 'gone': 0.14002800840280102, 'applied': 0.14002800840280102, 'mathematics': 0.14002800840280102, 'problem': 0.14002800840280102, 'fast': 0.14002800840280102, 'pace': 0.14002800840280102, 'rather': 0.14002800840280102, 'waiting': 0.14002800840280102, 'professor': 0.14002800840280102}\n",
            "TF-IDF for document 2: {'write': 0.13130643285972254, 'definintion': 0.13130643285972254, 'medical': 0.13130643285972254, 'field': 0.2626128657194451, 'data': 0.2626128657194451, 'whether': 0.3939192985791677, 'ha': 0.13130643285972254, 'actually': 0.13130643285972254, 'contaminated': 0.13130643285972254, 'many': 0.13130643285972254, 'time': 0.13130643285972254, 'reported': 0.13130643285972254, 'adverse': 0.13130643285972254, 'effect': 0.13130643285972254, 'fatigue': 0.13130643285972254, 'nausea': 0.13130643285972254, 'vomiting': 0.13130643285972254, 'range': 0.13130643285972254, 'may': 0.13130643285972254, 'influence': 0.13130643285972254, 'much': 0.13130643285972254, 'included': 0.13130643285972254, 'health': 0.2626128657194451, 'information': 0.13130643285972254, 'physical': 0.13130643285972254, 'record': 0.2626128657194451, 'patient': 0.2626128657194451, 'gender': 0.13130643285972254, 'wa': 0.13130643285972254, 'elective': 0.13130643285972254, 'applicable': 0.13130643285972254, 'primary': 0.13130643285972254, 'care': 0.13130643285972254, 'physician': 0.13130643285972254, 'access': 0.13130643285972254}\n"
          ]
        }
      ]
    },
    {
      "cell_type": "code",
      "source": [
        "def tfidf_to_dataframe(docs,tfidf_matrix,vectorizer):\n",
        "    return pd.DataFrame(\n",
        "        tfidf_matrix.T.toarray(),\n",
        "        index=vectorizer.get_feature_names_out(),\n",
        "        columns= [f\"Doc {i+1}\" for i in range(len(docs))],\n",
        "    )"
      ],
      "metadata": {
        "id": "yzmqNSVUZvxb"
      },
      "execution_count": 211,
      "outputs": []
    },
    {
      "cell_type": "code",
      "source": [
        "print(normalized_tfidf[0].get('act'))"
      ],
      "metadata": {
        "colab": {
          "base_uri": "https://localhost:8080/"
        },
        "id": "lg2TvxiUaECE",
        "outputId": "6aebf2c0-6b08-452d-bd6a-440ef81bee52"
      },
      "execution_count": 212,
      "outputs": [
        {
          "output_type": "stream",
          "name": "stdout",
          "text": [
            "None\n"
          ]
        }
      ]
    },
    {
      "cell_type": "code",
      "source": [
        "print(normalized_tfidf[1].get('act'))"
      ],
      "metadata": {
        "colab": {
          "base_uri": "https://localhost:8080/"
        },
        "id": "l9o2eExqaTYr",
        "outputId": "797912ae-cb6d-4b37-90b2-4d40929c939f"
      },
      "execution_count": 213,
      "outputs": [
        {
          "output_type": "stream",
          "name": "stdout",
          "text": [
            "None\n"
          ]
        }
      ]
    },
    {
      "cell_type": "code",
      "source": [],
      "metadata": {
        "id": "C5j-8dImaUZr"
      },
      "execution_count": 213,
      "outputs": []
    },
    {
      "cell_type": "code",
      "source": [
        "for word , tfidf in df['Doc 1'].items():\n",
        "  if tfidf == 0 : continue\n",
        "  print(f\"built in  {word} , value : \" , df['Doc 1'][word])\n",
        "  print(f\"from scratch  {word} , value : \" , normalized_tfidf[0].get(word) )\n",
        "  print('----')"
      ],
      "metadata": {
        "colab": {
          "base_uri": "https://localhost:8080/"
        },
        "id": "8xw031FIdDTm",
        "outputId": "02f13ffd-d1b2-40ab-d940-21cb4a9311aa"
      },
      "execution_count": 214,
      "outputs": [
        {
          "output_type": "stream",
          "name": "stdout",
          "text": [
            "built in  amateur , value :  0.14428127278288577\n",
            "from scratch  amateur , value :  0.14002800840280102\n",
            "----\n",
            "built in  applied , value :  0.14428127278288577\n",
            "from scratch  applied , value :  0.14002800840280102\n",
            "----\n",
            "built in  athlete , value :  0.14428127278288577\n",
            "from scratch  athlete , value :  0.14002800840280102\n",
            "----\n",
            "built in  definintion , value :  0.10265731390307976\n",
            "from scratch  definintion , value :  0.14002800840280102\n",
            "----\n",
            "built in  educator , value :  0.14428127278288577\n",
            "from scratch  educator , value :  0.14002800840280102\n",
            "----\n",
            "built in  effective , value :  0.14428127278288577\n",
            "from scratch  effective , value :  0.14002800840280102\n",
            "----\n",
            "built in  engineer , value :  0.14428127278288577\n",
            "from scratch  engineer , value :  0.14002800840280102\n",
            "----\n",
            "built in  fast , value :  0.14428127278288577\n",
            "from scratch  fast , value :  0.14002800840280102\n",
            "----\n",
            "built in  formula , value :  0.14428127278288577\n",
            "from scratch  formula , value :  0.14002800840280102\n",
            "----\n",
            "built in  gone , value :  0.14428127278288577\n",
            "from scratch  gone , value :  0.14002800840280102\n",
            "----\n",
            "built in  ha , value :  0.10265731390307976\n",
            "from scratch  ha , value :  0.14002800840280102\n",
            "----\n",
            "built in  mathematical , value :  0.14428127278288577\n",
            "from scratch  mathematical , value :  0.14002800840280102\n",
            "----\n",
            "built in  mathematics , value :  0.14428127278288577\n",
            "from scratch  mathematics , value :  0.14002800840280102\n",
            "----\n",
            "built in  never , value :  0.14428127278288577\n",
            "from scratch  never , value :  0.14002800840280102\n",
            "----\n",
            "built in  pace , value :  0.14428127278288577\n",
            "from scratch  pace , value :  0.14002800840280102\n",
            "----\n",
            "built in  person , value :  0.14428127278288577\n",
            "from scratch  person , value :  0.14002800840280102\n",
            "----\n",
            "built in  physicist , value :  0.14428127278288577\n",
            "from scratch  physicist , value :  0.14002800840280102\n",
            "----\n",
            "built in  practicing , value :  0.14428127278288577\n",
            "from scratch  practicing , value :  0.14002800840280102\n",
            "----\n",
            "built in  problem , value :  0.14428127278288577\n",
            "from scratch  problem , value :  0.14002800840280102\n",
            "----\n",
            "built in  professor , value :  0.14428127278288577\n",
            "from scratch  professor , value :  0.14002800840280102\n",
            "----\n",
            "built in  rather , value :  0.14428127278288577\n",
            "from scratch  rather , value :  0.14002800840280102\n",
            "----\n",
            "built in  schooling , value :  0.14428127278288577\n",
            "from scratch  schooling , value :  0.14002800840280102\n",
            "----\n",
            "built in  science , value :  0.28856254556577154\n",
            "from scratch  science , value :  0.28005601680560205\n",
            "----\n",
            "built in  spent , value :  0.14428127278288577\n",
            "from scratch  spent , value :  0.14002800840280102\n",
            "----\n",
            "built in  studying , value :  0.14428127278288577\n",
            "from scratch  studying , value :  0.14002800840280102\n",
            "----\n",
            "built in  taught , value :  0.14428127278288577\n",
            "from scratch  taught , value :  0.14002800840280102\n",
            "----\n",
            "built in  waiting , value :  0.14428127278288577\n",
            "from scratch  waiting , value :  0.14002800840280102\n",
            "----\n",
            "built in  whole , value :  0.14428127278288577\n",
            "from scratch  whole , value :  0.14002800840280102\n",
            "----\n",
            "built in  would , value :  0.5771250911315431\n",
            "from scratch  would , value :  0.5601120336112041\n",
            "----\n",
            "built in  write , value :  0.20531462780615953\n",
            "from scratch  write , value :  0.28005601680560205\n",
            "----\n"
          ]
        }
      ]
    },
    {
      "cell_type": "code",
      "source": [
        "for word , tfidf in df['Doc 2'].items():\n",
        "  if tfidf == 0 : continue\n",
        "  print(f\"built in  {word}     , value : \" , df['Doc 2'][word])\n",
        "  print(f\"from scratch  {word} , value : \" , normalized_tfidf[1].get(word) )\n",
        "  print('----')"
      ],
      "metadata": {
        "colab": {
          "base_uri": "https://localhost:8080/"
        },
        "id": "5J72jmvcdYvX",
        "outputId": "7a7d098c-2b95-4e38-ffc0-6928a68c059b"
      },
      "execution_count": 215,
      "outputs": [
        {
          "output_type": "stream",
          "name": "stdout",
          "text": [
            "built in  access     , value :  0.133015972934483\n",
            "from scratch  access , value :  0.13130643285972254\n",
            "----\n",
            "built in  actually     , value :  0.133015972934483\n",
            "from scratch  actually , value :  0.13130643285972254\n",
            "----\n",
            "built in  adverse     , value :  0.133015972934483\n",
            "from scratch  adverse , value :  0.13130643285972254\n",
            "----\n",
            "built in  applicable     , value :  0.133015972934483\n",
            "from scratch  applicable , value :  0.13130643285972254\n",
            "----\n",
            "built in  care     , value :  0.133015972934483\n",
            "from scratch  care , value :  0.13130643285972254\n",
            "----\n",
            "built in  contaminated     , value :  0.133015972934483\n",
            "from scratch  contaminated , value :  0.13130643285972254\n",
            "----\n",
            "built in  data     , value :  0.266031945868966\n",
            "from scratch  data , value :  0.2626128657194451\n",
            "----\n",
            "built in  definintion     , value :  0.09464196027856574\n",
            "from scratch  definintion , value :  0.13130643285972254\n",
            "----\n",
            "built in  effect     , value :  0.133015972934483\n",
            "from scratch  effect , value :  0.13130643285972254\n",
            "----\n",
            "built in  elective     , value :  0.133015972934483\n",
            "from scratch  elective , value :  0.13130643285972254\n",
            "----\n",
            "built in  fatigue     , value :  0.133015972934483\n",
            "from scratch  fatigue , value :  0.13130643285972254\n",
            "----\n",
            "built in  field     , value :  0.266031945868966\n",
            "from scratch  field , value :  0.2626128657194451\n",
            "----\n",
            "built in  gender     , value :  0.133015972934483\n",
            "from scratch  gender , value :  0.13130643285972254\n",
            "----\n",
            "built in  ha     , value :  0.09464196027856574\n",
            "from scratch  ha , value :  0.13130643285972254\n",
            "----\n",
            "built in  health     , value :  0.266031945868966\n",
            "from scratch  health , value :  0.2626128657194451\n",
            "----\n",
            "built in  included     , value :  0.133015972934483\n",
            "from scratch  included , value :  0.13130643285972254\n",
            "----\n",
            "built in  influence     , value :  0.133015972934483\n",
            "from scratch  influence , value :  0.13130643285972254\n",
            "----\n",
            "built in  information     , value :  0.133015972934483\n",
            "from scratch  information , value :  0.13130643285972254\n",
            "----\n",
            "built in  many     , value :  0.133015972934483\n",
            "from scratch  many , value :  0.13130643285972254\n",
            "----\n",
            "built in  may     , value :  0.133015972934483\n",
            "from scratch  may , value :  0.13130643285972254\n",
            "----\n",
            "built in  medical     , value :  0.133015972934483\n",
            "from scratch  medical , value :  0.13130643285972254\n",
            "----\n",
            "built in  much     , value :  0.133015972934483\n",
            "from scratch  much , value :  0.13130643285972254\n",
            "----\n",
            "built in  nausea     , value :  0.133015972934483\n",
            "from scratch  nausea , value :  0.13130643285972254\n",
            "----\n",
            "built in  patient     , value :  0.266031945868966\n",
            "from scratch  patient , value :  0.2626128657194451\n",
            "----\n",
            "built in  physical     , value :  0.133015972934483\n",
            "from scratch  physical , value :  0.13130643285972254\n",
            "----\n",
            "built in  physician     , value :  0.133015972934483\n",
            "from scratch  physician , value :  0.13130643285972254\n",
            "----\n",
            "built in  primary     , value :  0.133015972934483\n",
            "from scratch  primary , value :  0.13130643285972254\n",
            "----\n",
            "built in  range     , value :  0.133015972934483\n",
            "from scratch  range , value :  0.13130643285972254\n",
            "----\n",
            "built in  record     , value :  0.266031945868966\n",
            "from scratch  record , value :  0.2626128657194451\n",
            "----\n",
            "built in  reported     , value :  0.133015972934483\n",
            "from scratch  reported , value :  0.13130643285972254\n",
            "----\n",
            "built in  time     , value :  0.133015972934483\n",
            "from scratch  time , value :  0.13130643285972254\n",
            "----\n",
            "built in  vomiting     , value :  0.133015972934483\n",
            "from scratch  vomiting , value :  0.13130643285972254\n",
            "----\n",
            "built in  wa     , value :  0.133015972934483\n",
            "from scratch  wa , value :  0.13130643285972254\n",
            "----\n",
            "built in  whether     , value :  0.3990479188034489\n",
            "from scratch  whether , value :  0.3939192985791677\n",
            "----\n",
            "built in  write     , value :  0.09464196027856574\n",
            "from scratch  write , value :  0.13130643285972254\n",
            "----\n"
          ]
        }
      ]
    },
    {
      "cell_type": "code",
      "source": [],
      "metadata": {
        "id": "7Iad7RL4fatF"
      },
      "execution_count": 215,
      "outputs": []
    }
  ],
  "metadata": {
    "colab": {
      "provenance": []
    },
    "kernelspec": {
      "display_name": "Python 3",
      "name": "python3"
    },
    "language_info": {
      "codemirror_mode": {
        "name": "ipython",
        "version": 3
      },
      "file_extension": ".py",
      "mimetype": "text/x-python",
      "name": "python",
      "nbconvert_exporter": "python",
      "pygments_lexer": "ipython3",
      "version": "3.10.11"
    }
  },
  "nbformat": 4,
  "nbformat_minor": 0
}